{
 "cells": [
  {
   "cell_type": "markdown",
   "metadata": {},
   "source": [
    "# Observation blocks"
   ]
  },
  {
   "cell_type": "markdown",
   "metadata": {},
   "source": [
    "Database name is 'papahana' collection name is 'ob_block'. Create collection assumes to be assessed through port 27017."
   ]
  },
  {
   "cell_type": "code",
   "execution_count": 1,
   "metadata": {},
   "outputs": [],
   "source": [
    "from generate_demo_database import *\n",
    "import sys\n",
    "sys.path.append('papahana_flask_server_demo/swagger_server/controllers')\n",
    "from controller_helper import *\n",
    "dbName = 'papahana'\n",
    "collName = 'ob_block'\n",
    "nOb = 100\n",
    "coll = create_collection(dbName, collName, port=27017)"
   ]
  },
  {
   "cell_type": "markdown",
   "metadata": {},
   "source": [
    "## OB queries\n",
    "The following queries can be called by the API, returning dictionaries as JSON objects. The first objects of each query are printed out. You are encouraged to alter the search queries yourself. "
   ]
  },
  {
   "cell_type": "code",
   "execution_count": 2,
   "metadata": {},
   "outputs": [
    {
     "name": "stdout",
     "output_type": "stream",
     "text": [
      "{'comment': 'Here’s some money. Go see a star war.',\n",
      " 'observers': ['Annyong Bluth', 'Lottie Dottie Da'],\n",
      " 'pi': 'Lucille Bluth',\n",
      " 'program': 6,\n",
      " 'semesters': ['2028A', '2023A', '2004B']}\n",
      "{'comment': 'I hear the jury’s still out on science.',\n",
      " 'observers': ['Carl Weathers', 'Argyle Austero'],\n",
      " 'pi': 'Buster Bluth',\n",
      " 'program': 10,\n",
      " 'semesters': ['2026B', '2010B', '2021A']}\n",
      "{'comment': 'I don’t understand the question and I won’t respond to it.',\n",
      " 'observers': ['Herbert Love', 'Cindi Lightballoon', 'Kitty Sanchez'],\n",
      " 'pi': 'Michael Bluth',\n",
      " 'program': 4,\n",
      " 'semesters': ['2028A', '2023A', '2020A']}\n",
      "{'comment': 'I don’t understand the question and I won’t respond to it.',\n",
      " 'observers': ['Herbert Love', 'Cindi Lightballoon', 'Kitty Sanchez'],\n",
      " 'pi': 'Michael Bluth',\n",
      " 'program': 4,\n",
      " 'semesters': ['2028A', '2023A', '2020A']}\n"
     ]
    }
   ],
   "source": [
    "sig = {\n",
    "\t\t\"pi\" : \"Buster Bluth\",\n",
    "\t\t\"semesters\" : [\"2020A\"],\n",
    "\t\t\"program\" : 2,\n",
    "\t\t\"observers\" : [\n",
    "\t\t\t\"Herbert Love\",\n",
    "\t\t\t\"Oscar Bluth\",\n",
    "\t\t\t\"Tony Wonder\",\n",
    "\t\t\t\"Mort Meyers\"\n",
    "\t\t],\n",
    "\t}\n",
    "\n",
    "queries = (\n",
    "    coll.find(),\n",
    "    find_by_pi(sig[\"pi\"], coll),\n",
    "    find_by_observer(sig['observers'][0], coll),\n",
    "    find_by_observer_semester(sig['observers'][0], sig['semesters'][0], coll)\n",
    ")\n",
    "\n",
    "for cursor in queries:\n",
    "    obExample = cursor.next()\n",
    "    pprint.pprint(obExample['signature'], depth=2)"
   ]
  },
  {
   "cell_type": "code",
   "execution_count": 4,
   "metadata": {},
   "outputs": [
    {
     "name": "stdout",
     "output_type": "stream",
     "text": [
      "{'_id': {'semesters': ['2013A']}}\n",
      "{'_id': '16', 'signature': {'semesters': ['2026B', '2010B', '2021A']}}\n",
      "{'_id': '35',\n",
      " 'associations': ['rfvxk', 'cmwfe', 'iazoy', 'erkam'],\n",
      " 'comment': 'I am one of the few honest people I have ever known.',\n",
      " 'priority': 92.07285471081006,\n",
      " 'science': {'cfg_cam_cwave': 7541,\n",
      "             'cfg_cam_grating': 'RH1',\n",
      "             'cfg_slicer': 'Large',\n",
      "             'det1_exptime': 1108,\n",
      "             'det1_nexp': 24,\n",
      "             'det2_exptime': 1414,\n",
      "             'det2_next': 15,\n",
      "             'name': 'inqueue',\n",
      "             'version': '0.1'},\n",
      " 'signature': {'comment': 'I hear the jury’s still out on science.',\n",
      "               'observers': ['Rebel Alley'],\n",
      "               'pi': 'George Michael Bluth',\n",
      "               'program': 5,\n",
      "               'semesters': ['2020A', '2003B']},\n",
      " 'status': 'inqueue',\n",
      " 'target': {'d_dec': 1.013520176656978,\n",
      "            'd_ra': 8.952046038968575,\n",
      "            'dec': '+73 53 37',\n",
      "            'dec_offset': 8.838299014083375,\n",
      "            'epoch': 0.14306993172605975,\n",
      "            'equinox': 3.213151185628398,\n",
      "            'frame': 'zbnl',\n",
      "            'mag': [{...}, {...}],\n",
      "            'name': 'nbem',\n",
      "            'obstime': 5.327106037466692,\n",
      "            'pa': 80,\n",
      "            'pm_dec': 0.3283483826740874,\n",
      "            'pm_ra': 8.887239427681981,\n",
      "            'ra': '251 09 25',\n",
      "            'ra_offset': 2.233666063600246,\n",
      "            'wrap': 'ilzj'},\n",
      " 'version': '0.1'}\n",
      "{'_id': '36',\n",
      " 'acquisition': {'guider_gs_dec': 64.50053515532801,\n",
      "                 'guider_gs_mode': 'Operator',\n",
      "                 'guider_gs_ra': 12.071780863216375,\n",
      "                 'guider_po': 'REF',\n",
      "                 'name': 'KCWI_ifu_acq_direct',\n",
      "                 'script': 'KCWI_ifu_acq_direct',\n",
      "                 'version': '0.1'},\n",
      " 'associations': ['fvxmd', 'nybzs', 'tpprf'],\n",
      " 'priority': 45.75279263007034,\n",
      " 'science': {'cfg_cam_cwave': 8489,\n",
      "             'cfg_cam_grating': 'BM',\n",
      "             'cfg_slicer': 'Medium',\n",
      "             'det1_exptime': 2903,\n",
      "             'det1_nexp': 23,\n",
      "             'det2_exptime': 2595,\n",
      "             'det2_next': 31,\n",
      "             'name': 'inqueue',\n",
      "             'version': '0.1'},\n",
      " 'signature': {'comment': 'I don’t understand the question and I won’t respond '\n",
      "                          'to it.',\n",
      "               'observers': ['Herbert Love',\n",
      "                             'Cindi Lightballoon',\n",
      "                             'Kitty Sanchez'],\n",
      "               'pi': 'Michael Bluth',\n",
      "               'program': 4,\n",
      "               'semesters': ['2028A', '2023A', '2020A']},\n",
      " 'status': 'broken',\n",
      " 'target': {'comment': 'I hear the jury’s still out on science.',\n",
      "            'd_dec': 5.422209593419018,\n",
      "            'd_ra': 6.031142237442468,\n",
      "            'dec': '-25 27 30',\n",
      "            'dec_offset': 3.554351117935326,\n",
      "            'epoch': 0.03536002208384237,\n",
      "            'equinox': 8.78614186752974,\n",
      "            'frame': 'wium',\n",
      "            'mag': [{...}],\n",
      "            'name': 'gooh',\n",
      "            'obstime': 2.8244215851558883,\n",
      "            'pa': 32,\n",
      "            'pm_dec': 2.352323289424648,\n",
      "            'pm_ra': 7.285882223734887,\n",
      "            'ra': '188 17 32',\n",
      "            'ra_offset': 7.3360361613578835,\n",
      "            'wrap': 'onsx'},\n",
      " 'version': '0.1'}\n"
     ]
    }
   ],
   "source": [
    "aggregates = (\n",
    "get_distinct_semesters(sig['observers'][0], coll),  # /semIds/{semester} (get) \n",
    "get_semesters_by_pi(sig['pi'], coll),  # /semIds (get) # Retrieves all the programs (semesters) associated with a PI\n",
    "get_ob_by_semester(sig['semesters'][0], coll), #  /semIds/{semester} (get) retrieve the programs for the given semester\n",
    "get_ob_by_semester_observer(sig['semesters'][0], sig['observers'][0], coll)  # /semIds/{semId} (get)  Retrieves the specified program\n",
    ")\n",
    "\n",
    "for cursor in aggregates:\n",
    "    obExample = cursor.next()\n",
    "    pprint.pprint(obExample, depth=3)"
   ]
  },
  {
   "cell_type": "code",
   "execution_count": 11,
   "metadata": {},
   "outputs": [
    {
     "name": "stdout",
     "output_type": "stream",
     "text": [
      "[{'_id': '101', 'signature': {'pi': 'Gob Bluth', 'semester': '2002A', 'program': 6, 'observers': ['Stan Sitwell', 'Steve Holt', 'Argyle Austero', 'Stefan Gentles'], 'group': 1}, 'version': '0.1', 'acquisition': {'name': 'KCWI_ifu_acq_direct', 'version': '0.1', 'script': 'KCWI_ifu_acq_direct', 'guider_po': 'IFU', 'guider_gs_ra': 5.993199268191816, 'guider_gs_dec': 40.0944994434565, 'guider_gs_mode': 'User'}, 'associations': ['rnynw', 'ajkjy', 'zdkyu', 'tdpgq'], 'priority': 100, 'status': 'broken', 'comment': 'I hear the jury’s still out on science.'}]\n"
     ]
    }
   ],
   "source": [
    "ob = list(get_ob_by_id('17', coll))[0]\n",
    "ob['_id'] = str(101)\n",
    "delete_observation_block(str(101), coll)\n",
    "insert_observation_block(ob, coll)\n",
    "newValues = {\"$set\": { \"priority\": 100 } }\n",
    "update_observation_block(str(101), newValues, coll)\n",
    "ob = list(get_ob_by_id('101', coll))\n",
    "print(ob)"
   ]
  },
  {
   "cell_type": "markdown",
   "metadata": {},
   "source": [
    "# Groups"
   ]
  },
  {
   "cell_type": "code",
   "execution_count": 14,
   "metadata": {},
   "outputs": [],
   "source": [
    "groups = ['Army', 'The Alliance of Magicians', 'Tantamount Studios', 'Orange County Prison', 'Milford School', 'Dr. Fünke\\'s 100% Natural Good-Time Family-Band Solution']\n",
    "randGroupName = lambda: random.choice(groups)\n",
    "randOBIds = lambda x=5: [int(x) for x in list(np.random.choice( range(0,nOb+1), size=random.randint(0, x), replace=False))]\n",
    "def generate_group(_id=None):\n",
    "    schema = {\n",
    "        \"semester\": randSemester(),\n",
    "        \"name\": randGroupName(),\n",
    "        \"comment\": randComment(),\n",
    "        \"observation_blocks\": randOBIds()\n",
    "    }\n",
    "    if _id:\n",
    "        schema['_id'] = _id\n",
    "    return schema"
   ]
  },
  {
   "cell_type": "code",
   "execution_count": 15,
   "metadata": {},
   "outputs": [],
   "source": [
    "dbName = 'papahana'\n",
    "collName = 'groups'\n",
    "remote=True # run on remote server (n)\n",
    "coll = create_collection(dbName, collName, port=27017, remote=False)\n",
    "coll.drop()\n",
    "nGroups = 20\n",
    "for idx in range(nGroups):\n",
    "    doc = generate_group(str(idx))\n",
    "    result = coll.insert_one(doc)\n",
    "    assert result.inserted_id == str(idx), 'check that idx was sed properly'"
   ]
  },
  {
   "cell_type": "code",
   "execution_count": null,
   "metadata": {},
   "outputs": [],
   "source": []
  }
 ],
 "metadata": {
  "kernelspec": {
   "display_name": "koa",
   "language": "python",
   "name": "koa"
  },
  "language_info": {
   "codemirror_mode": {
    "name": "ipython",
    "version": 3
   },
   "file_extension": ".py",
   "mimetype": "text/x-python",
   "name": "python",
   "nbconvert_exporter": "python",
   "pygments_lexer": "ipython3",
   "version": "3.6.8"
  }
 },
 "nbformat": 4,
 "nbformat_minor": 4
}
