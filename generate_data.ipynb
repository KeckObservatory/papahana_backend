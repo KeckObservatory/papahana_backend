{
 "cells": [
  {
   "cell_type": "markdown",
   "metadata": {},
   "source": [
    "This notebook generates randomized dictionary objects representing artificial observation blocks as desribed in [these pages](https://keckobservatory.atlassian.net/wiki/spaces/DSI/pages/808321035/Change+controlled+documents). \n",
    "\n",
    "Data is stored on a local MongoDB collection.\n",
    "\n",
    "Finally a few function calls are made to query observation blocks"
   ]
  },
  {
   "cell_type": "code",
   "execution_count": 2,
   "metadata": {},
   "outputs": [],
   "source": [
    "import numpy as np\n",
    "from controller_helper import *\n",
    "import pymongo\n",
    "import random\n",
    "import string\n",
    "from itertools import product\n",
    "import pprint\n",
    "import pdb\n",
    "from functools import wraps\n",
    "import urllib\n",
    "from getpass import getpass\n",
    "seed = 1984739\n",
    "random.seed(seed)\n",
    "\n",
    "INST_MAPPING = { \n",
    "                 'DEIMOS': {'DE', 'DF'},\n",
    "                 'ESI': {'EI'},\n",
    "                 'HIRES': {'HI'},\n",
    "                 'KCWI': {'KB', 'KF'}, \n",
    "                 'LRIS': {'LB', 'LR'},\n",
    "                 'MOSFIRE': {'MF'},\n",
    "                 'OSIRIS': {'OI', 'OS'},\n",
    "                 'NIRES': {'NR', 'NI', 'NS'},\n",
    "                 'NIRC2': {'N2', 'NC'},\n",
    "                }\n",
    "\n",
    "observers = ['Butawhiteboy Cantbekhan',\n",
    "             'Snorkeldink Crackerdong',\n",
    "             'Blubberwhale Crimpysnitch', \n",
    "             'Oscarbait Rivendell',\n",
    "             'Buckingham Countryside',\n",
    "             'Beezlebub Vegemite',\n",
    "             'Wimbledon Crackerjack',\n",
    "            ]\n",
    "\n",
    "pis = [\n",
    "    'Darmond steelbreaker',\n",
    "    'Thorgarn strongmane',\n",
    "    'Melkyl kindpast',\n",
    "    'Brannyl firststone',\n",
    "    'Thergrun marblebottom',\n",
    "    'Tornur fobrekahk',\n",
    "    'Emnir throroguhr',\n",
    "    'Balmun dekork',\n",
    "    'Guldram brufdinack',\n",
    "    'Gulkum rurdurarr',\n",
    "]\n",
    "\n",
    "semesters = [str(x)+y for x, y in product(range(2000,2004), ['A', 'B'])]\n",
    "letters = string.ascii_lowercase\n",
    "\n",
    "# random generators \n",
    "randString = lambda x=4: ''.join(random.choice(letters) for i in range(x))\n",
    "randFloat = lambda mag=10: mag * random.uniform(0,1)\n",
    "randBool = lambda: bool(random.choice([0,1, None]))\n",
    "randArrStr = lambda x=1, y=1: [randString(x) for _ in range(random.randint(1, y)) ]\n",
    "optionalRandString = lambda x=4: random.choice([None, randString(x)])\n",
    "optionalRandArrString = lambda x, y=1: random.choice([None, randArrStr(x, y)])\n",
    "sampleInst = lambda: random.choice(list(INST_MAPPING.keys()))\n",
    "randPI = lambda: random.choice(pis)\n",
    "randObserver = lambda: random.choice(observers)\n",
    "randSemester = lambda: random.choice(semesters)\n",
    "randPIList = lambda x=1: lambda x=1: list(np.random.choice(pis, size=random.randint(1, x), replace=False))\n",
    "randObserverList = lambda x=1: list(np.random.choice(observers, size=random.randint(1, x), replace=False))"
   ]
  },
  {
   "cell_type": "markdown",
   "metadata": {},
   "source": [
    "Functions below generate observation blocks dictionary objects, and their sub components."
   ]
  },
  {
   "cell_type": "code",
   "execution_count": 3,
   "metadata": {},
   "outputs": [],
   "source": [
    "def remove_none_values_in_dict(method):\n",
    "    '''None values in dict returned by method are removed\n",
    "    '''\n",
    "    @wraps(method)\n",
    "    def remove_none(*args, **kw):\n",
    "        result = method(*args, **kw)\n",
    "        return {key: val for key, val in result.items() if val is not None}\n",
    "    return remove_none\n",
    "\n",
    "def generate_semester(sem, nLen, maxLen=6):\n",
    "    return {'_id': sem,\n",
    "            'semester': sem,\n",
    "            'obs_id': randObserverList(maxLen)}\n",
    "\n",
    "def generate_semesters(nSem, nLen=5, maxLen=6):\n",
    "    return [ generate_semester(sem, nLen, maxLen) for sem in semesters[0:nSem] ]\n",
    "\n",
    "def generate_mag(nLen=2):\n",
    "    return {'band': randString(nLen), 'mag': randFloat(nLen)}\n",
    "\n",
    "@remove_none_values_in_dict\n",
    "def generate_observation(nLen, maxArr):\n",
    "    schema = {\n",
    "        'instrument': sampleInst(),\n",
    "        'exposure_sequences': randArrStr(nLen, maxArr),\n",
    "        'associations': randArrStr(nLen, maxArr),\n",
    "    }\n",
    "    return schema\n",
    "\n",
    "@remove_none_values_in_dict\n",
    "def generate_signature(maxArr):\n",
    "    schema = {\n",
    "        'pi': randPI(),\n",
    "        'semester': randSemester(),\n",
    "        'program': random.randint(0, 10),\n",
    "        'observers': randObserverList(maxArr),\n",
    "        'container': random.randint(0,3) \n",
    "    }\n",
    "    return schema\n",
    "\n",
    "@remove_none_values_in_dict\n",
    "def generate_acquisition(nLen, maxArr):\n",
    "    schema = {\n",
    "        'instrument_setup': randString(),\n",
    "        'acquisition_method': randString(),\n",
    "        'guider_selection': optionalRandString(),\n",
    "        'ao_modes': optionalRandArrString(nLen, maxArr),\n",
    "        'offset_stars': optionalRandArrString(nLen, maxArr),\n",
    "        'slitmasks': optionalRandArrString(nLen, maxArr),\n",
    "        'position_angles': optionalRandArrString(nLen, maxArr),\n",
    "    }\n",
    "    return schema\n",
    "\n",
    "@remove_none_values_in_dict\n",
    "def generate_target():\n",
    "    schema = { \n",
    "        'name': randString(), \n",
    "        'ra': randString(), \n",
    "        'dec': randString(), \n",
    "        'equinox': randFloat(), \n",
    "        'frame': randString(), \n",
    "        'ra_offset': randFloat(), \n",
    "        'dec_offset': randFloat(), \n",
    "        'pm_ra': randFloat(), \n",
    "        'pm_dec': randFloat(), \n",
    "        'epoch': randFloat(), \n",
    "        'obstime': randFloat(), \n",
    "        'mag': generate_mag(), \n",
    "        'wrap': optionalRandString(), \n",
    "        'd_ra': randFloat(), \n",
    "        'd_dec': randFloat(), \n",
    "        'comment': optionalRandString(), \n",
    "             }\n",
    "    return schema\n",
    "\n",
    "@remove_none_values_in_dict\n",
    "def generate_observation_block(nLen, maxArr, _id=None):\n",
    "    schema = {\n",
    "        'signature': generate_signature(maxArr),\n",
    "        'target': random.choice( [ None, generate_target() ]) ,\n",
    "        'acquisition': random.choice( [ None, generate_acquisition(nLen, maxArr) ] ) ,\n",
    "        'observations': [ generate_observation(nLen, maxArr) for _ in range(random.randint(1, maxArr)) ], \n",
    "        'associations': randArrStr(nLen, maxArr),\n",
    "        'priority': randFloat(100)\n",
    "    }\n",
    "    if _id:\n",
    "        schema['_id'] = _id\n",
    "    return schema"
   ]
  },
  {
   "cell_type": "code",
   "execution_count": 4,
   "metadata": {},
   "outputs": [],
   "source": [
    "# run this a few times to check if data is generating.\n",
    "assert generate_observation_block(3,3), 'ob did not generate successfully'"
   ]
  },
  {
   "cell_type": "markdown",
   "metadata": {},
   "source": [
    "Database name is 'papahana' collection name is 'ob_block'. Create collection assumes to be assessed through port 27017."
   ]
  },
  {
   "cell_type": "code",
   "execution_count": 7,
   "metadata": {},
   "outputs": [],
   "source": [
    "dbName = 'papahana'\n",
    "collName = 'ob_block'\n",
    "remote=True # run on remote server (n)\n",
    "coll = create_collection(dbName, collName, port=27017, remote=False)"
   ]
  },
  {
   "cell_type": "code",
   "execution_count": 8,
   "metadata": {},
   "outputs": [
    {
     "data": {
      "text/plain": [
       "'signature.program_-1'"
      ]
     },
     "execution_count": 8,
     "metadata": {},
     "output_type": "execute_result"
    }
   ],
   "source": [
    "coll.drop()\n",
    "coll.create_index([('signature.pi', pymongo.DESCENDING)])\n",
    "coll.create_index([('signature.semester', pymongo.DESCENDING)])\n",
    "coll.create_index([('signature.program', pymongo.DESCENDING)])"
   ]
  },
  {
   "cell_type": "code",
   "execution_count": 9,
   "metadata": {},
   "outputs": [],
   "source": [
    "nLen = 5\n",
    "maxArr = 5\n",
    "nOb = 100\n",
    "for idx in range(nOb):\n",
    "    doc = generate_observation_block(nLen, maxArr, str(idx))\n",
    "    asdf = coll.insert_one(doc)"
   ]
  },
  {
   "cell_type": "code",
   "execution_count": 13,
   "metadata": {},
   "outputs": [
    {
     "data": {
      "text/plain": [
       "'99'"
      ]
     },
     "execution_count": 13,
     "metadata": {},
     "output_type": "execute_result"
    }
   ],
   "source": [
    "asdf.inserted_id"
   ]
  },
  {
   "cell_type": "markdown",
   "metadata": {},
   "source": [
    "The following queries can be called by the API, returning dictionaries as JSON objects. The first objects of each query are printed out. You are encouraged to alter the search queries yourself. "
   ]
  },
  {
   "cell_type": "code",
   "execution_count": 7,
   "metadata": {},
   "outputs": [
    {
     "name": "stdout",
     "output_type": "stream",
     "text": [
      "{'_id': '0',\n",
      " 'associations': ['mrtkq', 'miqme', 'bsful', 'jbuyl'],\n",
      " 'observations': [{...}, {...}, {...}, {...}],\n",
      " 'priority': 14.898833693629953,\n",
      " 'signature': {'container': 3,\n",
      "               'observers': [...],\n",
      "               'pi': 'Darmond steelbreaker',\n",
      "               'program': 5,\n",
      "               'semester': '2000A'}}\n",
      "{'_id': '8',\n",
      " 'acquisition': {'acquisition_method': 'kmux',\n",
      "                 'ao_modes': [...],\n",
      "                 'guider_selection': 'nrvs',\n",
      "                 'instrument_setup': 'elbr',\n",
      "                 'offset_stars': [...],\n",
      "                 'position_angles': [...],\n",
      "                 'slitmasks': [...]},\n",
      " 'associations': ['xpihn', 'earlh', 'kllti', 'hknjx'],\n",
      " 'observations': [{...}, {...}],\n",
      " 'priority': 21.242674436362353,\n",
      " 'signature': {'container': 0,\n",
      "               'observers': [...],\n",
      "               'pi': 'Thergrun marblebottom',\n",
      "               'program': 5,\n",
      "               'semester': '2002A'}}\n",
      "{'_id': '3',\n",
      " 'associations': ['kpkjn'],\n",
      " 'observations': [{...}, {...}],\n",
      " 'priority': 40.61979922302038,\n",
      " 'signature': {'container': 3,\n",
      "               'observers': [...],\n",
      "               'pi': 'Tornur fobrekahk',\n",
      "               'program': 8,\n",
      "               'semester': '2002B'}}\n",
      "{'_id': '29',\n",
      " 'associations': ['svmji', 'mecnf', 'ryejq', 'dnnyo', 'wyquo'],\n",
      " 'observations': [{...}, {...}, {...}],\n",
      " 'priority': 60.68197617361126,\n",
      " 'signature': {'container': 2,\n",
      "               'observers': [...],\n",
      "               'pi': 'Melkyl kindpast',\n",
      "               'program': 0,\n",
      "               'semester': '2000B'}}\n"
     ]
    }
   ],
   "source": [
    "sig = { \"pi\" : \"Thergrun marblebottom\", \"semester\" : \"2001B\", \"program\" : 10, \"observers\": ['Blubberwhale Crimpysnitch'] }\n",
    "\n",
    "container = 2\n",
    "\n",
    "queries = (\n",
    "    coll.find(),\n",
    "    find_by_pi(sig[\"pi\"], coll),\n",
    "    find_by_observer(sig['observers'][0], coll),\n",
    "    find_by_observer_container(sig['observers'][0], container, coll)\n",
    ")\n",
    "\n",
    "for cursor in queries:\n",
    "    obExample = cursor.next()\n",
    "    pprint.pprint(obExample, depth=2)\n",
    "    "
   ]
  },
  {
   "cell_type": "code",
   "execution_count": 9,
   "metadata": {},
   "outputs": [
    {
     "name": "stdout",
     "output_type": "stream",
     "text": [
      "{'_id': {'semester': '2002A'}}\n",
      "{'_id': '8', 'signature': {'semester': '2002A'}}\n",
      "{'_id': '6',\n",
      " 'acquisition': {'acquisition_method': 'vqaz', 'instrument_setup': 'otcf'},\n",
      " 'associations': ['ufguo', 'hrxvt', 'nmkdn', 'aenjw', 'oxtcv'],\n",
      " 'observations': [{...}, {...}, {...}, {...}, {...}],\n",
      " 'priority': 95.62990777131259,\n",
      " 'signature': {'container': 3,\n",
      "               'observers': [...],\n",
      "               'pi': 'Melkyl kindpast',\n",
      "               'program': 2,\n",
      "               'semester': '2001B'}}\n",
      "{'_id': '14',\n",
      " 'acquisition': {'acquisition_method': 'zjkn',\n",
      "                 'ao_modes': [...],\n",
      "                 'guider_selection': 'zmjt',\n",
      "                 'instrument_setup': 'nsnd',\n",
      "                 'offset_stars': [...],\n",
      "                 'position_angles': [...],\n",
      "                 'slitmasks': [...]},\n",
      " 'associations': ['oyblk'],\n",
      " 'observations': [{...}],\n",
      " 'priority': 70.01206700080458,\n",
      " 'signature': {'container': 3,\n",
      "               'observers': [...],\n",
      "               'pi': 'Brannyl firststone',\n",
      "               'program': 7,\n",
      "               'semester': '2001B'}}\n"
     ]
    }
   ],
   "source": [
    "aggregates = (\n",
    "get_distinct_semesters(sig['observers'][0], coll),  # /semIds/{semester} (get) \n",
    "get_semesters_by_pi(sig['pi'], coll),  # /semIds (get) # Retrieves all the programs (semesters) associated with a PI\n",
    "get_ob_by_semester(sig['semester'], coll), #  /semIds/{semester} (get) retrieve the programs for the given semester\n",
    "get_ob_by_semester_observer(sig['semester'], sig['observers'][0], coll)  # /semIds/{semId} (get)  Retrieves the specified program\n",
    ")\n",
    "\n",
    "for cursor in aggregates:\n",
    "    obExample = cursor.next()\n",
    "    pprint.pprint(obExample, depth=2)"
   ]
  },
  {
   "cell_type": "code",
   "execution_count": 10,
   "metadata": {},
   "outputs": [
    {
     "name": "stdout",
     "output_type": "stream",
     "text": [
      "[{'_id': '101', 'signature': {'pi': 'Darmond steelbreaker', 'semester': '2003A', 'program': 6, 'observers': ['Oscarbait Rivendell'], 'container': 2}, 'target': {'name': 'ycsz', 'ra': 'qzff', 'dec': 'jlrv', 'equinox': 2.0613887207324746, 'frame': 'lwxo', 'ra_offset': 4.559331678104458, 'dec_offset': 0.9132324667888048, 'pm_ra': 1.2738993028947598, 'pm_dec': 8.060415779485188, 'epoch': 2.0540388831409917, 'obstime': 2.5541241243502077, 'mag': {'band': 'ch', 'mag': 1.405319377374786}, 'd_ra': 1.8974480563535945, 'd_dec': 4.035972332394922}, 'observations': [{'instrument': 'ESI', 'exposure_sequences': ['tdgip', 'vtytw', 'rcela', 'bkajk'], 'associations': ['cvvdj', 'xlytz']}, {'instrument': 'KCWI', 'exposure_sequences': ['owcjo', 'vbmrq'], 'associations': ['mdkha', 'witmj']}, {'instrument': 'NIRC2', 'exposure_sequences': ['ztmlk', 'hqhzi', 'bnpkg', 'imzof'], 'associations': ['laxuh', 'yfsag', 'iiwuv', 'kefnf']}, {'instrument': 'NIRC2', 'exposure_sequences': ['vbtfy'], 'associations': ['eqkqq', 'sqitm', 'omfja']}, {'instrument': 'OSIRIS', 'exposure_sequences': ['hysfh'], 'associations': ['jhvnj', 'dbvka']}], 'associations': ['xpwry', 'ekjsb', 'zmnst', 'lthlm'], 'priority': 100}]\n"
     ]
    }
   ],
   "source": [
    "ob = list(get_ob_by_id('17', coll))[0]\n",
    "ob['_id'] = str(101)\n",
    "delete_observation_block(str(101), coll)\n",
    "insert_observation_block(ob, coll)\n",
    "newValues = {\"$set\": { \"priority\": 100 } }\n",
    "update_observation_block(str(101), newValues, coll)\n",
    "ob = list(get_ob_by_id('101', coll))\n",
    "print(ob)"
   ]
  },
  {
   "cell_type": "code",
   "execution_count": null,
   "metadata": {},
   "outputs": [],
   "source": []
  }
 ],
 "metadata": {
  "kernelspec": {
   "display_name": "koa",
   "language": "python",
   "name": "koa"
  },
  "language_info": {
   "codemirror_mode": {
    "name": "ipython",
    "version": 3
   },
   "file_extension": ".py",
   "mimetype": "text/x-python",
   "name": "python",
   "nbconvert_exporter": "python",
   "pygments_lexer": "ipython3",
   "version": "3.6.8"
  }
 },
 "nbformat": 4,
 "nbformat_minor": 4
}
