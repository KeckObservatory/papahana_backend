{
 "cells": [
  {
   "cell_type": "markdown",
   "metadata": {},
   "source": [
    "[GridFS](https://docs.mongodb.com/manual/core/gridfs/) stores files that exceed BSON's document size limit of 16MB. Files are encoded as ascii readible characters using [base64](https://docs.python.org/3/library/base64.html). This notebook provides basic read/write functions on a local MongoDB."
   ]
  },
  {
   "cell_type": "code",
   "execution_count": 8,
   "metadata": {},
   "outputs": [],
   "source": [
    "import pymongo\n",
    "import gridfs\n",
    "import base64 # what are other alternatives? Any benefits?"
   ]
  },
  {
   "cell_type": "code",
   "execution_count": 9,
   "metadata": {},
   "outputs": [],
   "source": [
    "def create_fs(dbName, fsName, port=27017):\n",
    "    dbUrl = f'mongodb://localhost:{port}/'\n",
    "    client = pymongo.MongoClient(dbUrl)\n",
    "    db = client[dbName]\n",
    "    fs = gridfs.GridFS(db, collection=fsName)\n",
    "    return fs\n",
    "\n",
    "def write_new_file_to_db(filename, fs):\n",
    "    with open(filename, \"rb\") as f:  # \"rb\" flag for \"read bytes\"\n",
    "        encoded_string = base64.b64encode(f.read())\n",
    "    with fs.new_file(\n",
    "        chunkSize=800000,\n",
    "        filename=filename) as fp:\n",
    "        fp.write(encoded_string)\n",
    "        \n",
    "def write_file_to_disk(filename, newFilename, fs):\n",
    "    # Standard query to Mongo\n",
    "    data = fs.find_one(filter=dict(filename=filename))\n",
    "    with open(newFilename, \"wb\") as f:\n",
    "        f.write(base64.b64decode(data.read()))"
   ]
  },
  {
   "cell_type": "code",
   "execution_count": 10,
   "metadata": {},
   "outputs": [],
   "source": [
    "# read and write pdf\n",
    "filename='bartok.pdf'\n",
    "newFilename = 'bartok_copy.pdf'\n",
    "dbName = 'papahana'\n",
    "fsName = 'fs'\n",
    "\n",
    "fs = create_fs(dbName, fsName)\n",
    "write_new_file_to_db(filename, fs)\n",
    "write_file_to_disk(filename, newFilename, fs)"
   ]
  },
  {
   "cell_type": "code",
   "execution_count": 11,
   "metadata": {},
   "outputs": [],
   "source": [
    "# read and write jpg\n",
    "filename='waterfall_jump.JPG'\n",
    "newFilename = 'waterfall_jump_copy.JPG'\n",
    "write_new_file_to_db(filename, fs)\n",
    "write_file_to_disk(filename, newFilename, fs)"
   ]
  },
  {
   "cell_type": "code",
   "execution_count": null,
   "metadata": {},
   "outputs": [],
   "source": []
  }
 ],
 "metadata": {
  "kernelspec": {
   "display_name": "Python 3",
   "language": "python",
   "name": "python3"
  },
  "language_info": {
   "codemirror_mode": {
    "name": "ipython",
    "version": 3
   },
   "file_extension": ".py",
   "mimetype": "text/x-python",
   "name": "python",
   "nbconvert_exporter": "python",
   "pygments_lexer": "ipython3",
   "version": "3.6.8"
  }
 },
 "nbformat": 4,
 "nbformat_minor": 4
}
